{
 "cells": [
  {
   "cell_type": "code",
   "execution_count": 5,
   "metadata": {},
   "outputs": [],
   "source": [
    "import requests\n",
    "import json\n",
    "from pprint import pprint\n",
    "import openpyxl\n",
    "from openpyxl import Workbook\n",
    " \n",
    "wb = Workbook()\n",
    "ws = wb.active\n",
    "dest_filename = 'MyTestSheet.xlsx'\n",
    "ws.title = \"MyTestSheet\"\n",
    " \n",
    "data_url = ''\n",
    "# response = requests.get(data_url)\n",
    "# response.raise_for_status()\n",
    "# data = response.json()\n",
    " \n",
    "# x = 1\n",
    "# y = 1\n",
    " \n",
    "# for i in range(0,100):\n",
    "#     ws.cell(row=x, column=y, value=str(data['features'][i]['attributes']))\n",
    "#     x = x+1\n",
    " \n",
    "# wb.save('MyTestSheet.xlsx')"
   ]
  },
  {
   "cell_type": "code",
   "execution_count": null,
   "metadata": {},
   "outputs": [],
   "source": []
  },
  {
   "cell_type": "code",
   "execution_count": 7,
   "metadata": {},
   "outputs": [],
   "source": [
    "import csv\n",
    " \n",
    "# fake json data\n",
    "data = {\n",
    "    \"features\": [\n",
    "        {\n",
    "            \"attributes\": {\n",
    "                \"color\": \"green\",\n",
    "                \"size\": \"5\",\n",
    "                \"can_rotate\": \"no\"\n",
    "            }\n",
    "        },\n",
    "        {\n",
    "            \"attributes\": {\n",
    "                \"can_rotate\": \"yes\",\n",
    "                \"color\": \"black\"\n",
    "            }\n",
    "        },\n",
    "        {\n",
    "            \"attributes\": {\n",
    "                \"color\": \"red\",\n",
    "                \"size\": \"9\"\n",
    "            }\n",
    "        }\n",
    "    ]\n",
    "}\n",
    " \n",
    "columns = []\n",
    "all_rows = []\n",
    "for feature in data[\"features\"]:\n",
    "    row = [\"\" for col in columns]\n",
    "    for key, value in feature[\"attributes\"].items():\n",
    "        try:\n",
    "            index = columns.index(key)\n",
    "        except ValueError:\n",
    "            # this column hasn't been seen before\n",
    "            columns.append(key)\n",
    "            row.append(\"\")\n",
    "            index = len(columns) - 1\n",
    " \n",
    "        row[index] = value\n",
    "    all_rows.append(row)\n",
    " \n",
    "with open(\"my_file.csv\", \"w\") as csvfile:\n",
    "    writer = csv.writer(csvfile)\n",
    "    # first row is the headers\n",
    "    writer.writerow(columns)\n",
    "    # then, the rows\n",
    "    writer.writerows(all_rows)\n",
    "    "
   ]
  },
  {
   "cell_type": "code",
   "execution_count": null,
   "metadata": {},
   "outputs": [],
   "source": []
  },
  {
   "cell_type": "code",
   "execution_count": null,
   "metadata": {},
   "outputs": [],
   "source": []
  },
  {
   "cell_type": "code",
   "execution_count": 8,
   "metadata": {},
   "outputs": [],
   "source": [
    "import csv\n",
    "\n",
    "my_dict = {'1': 'aaa', '2': 'bbb', '3': 'ccc'}\n",
    "\n",
    "with open('test.csv', 'w') as f:\n",
    "    for key in my_dict.keys():\n",
    "        f.write(\"%s,%s\\n\"%(key,my_dict[key]))"
   ]
  },
  {
   "cell_type": "code",
   "execution_count": null,
   "metadata": {},
   "outputs": [],
   "source": []
  },
  {
   "cell_type": "code",
   "execution_count": 11,
   "metadata": {},
   "outputs": [],
   "source": [
    "import csv\n",
    "\n",
    "csv_columns = ['No','Name','Country']\n",
    "dict_data = [\n",
    "{'No': 1, 'Name': 'Alex', 'Country': 'India'},\n",
    "{'No': 2, 'Name': 'Ben', 'Country': 'USA'},\n",
    "{'No': 3, 'Name': 'Shri Ram', 'Country': 'India'},\n",
    "{'No': 4, 'Name': 'Smith', 'Country': 'USA'},\n",
    "{'No': 5, 'Name': 'Yuva Raj', 'Country': 'India'},\n",
    "]\n",
    "csv_file = \"Names.csv\"\n",
    "try:\n",
    "    with open(csv_file, 'w') as csvfile:\n",
    "        writer = csv.DictWriter(csvfile, fieldnames=csv_columns)\n",
    "        writer.writeheader()\n",
    "        for data in dict_data:\n",
    "            writer.writerow(data)\n",
    "except IOError:\n",
    "    print(\"I/O error\") "
   ]
  },
  {
   "cell_type": "code",
   "execution_count": null,
   "metadata": {},
   "outputs": [],
   "source": []
  }
 ],
 "metadata": {
  "kernelspec": {
   "display_name": "Python 3",
   "language": "python",
   "name": "python3"
  },
  "language_info": {
   "codemirror_mode": {
    "name": "ipython",
    "version": 3
   },
   "file_extension": ".py",
   "mimetype": "text/x-python",
   "name": "python",
   "nbconvert_exporter": "python",
   "pygments_lexer": "ipython3",
   "version": "3.6.5"
  }
 },
 "nbformat": 4,
 "nbformat_minor": 2
}
