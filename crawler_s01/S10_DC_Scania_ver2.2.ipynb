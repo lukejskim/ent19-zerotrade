{
 "cells": [
  {
   "cell_type": "markdown",
   "metadata": {},
   "source": [
    "# Industry 4.0 의 중심, BigData"
   ]
  },
  {
   "cell_type": "markdown",
   "metadata": {},
   "source": [
    "<div align='right'><font size=2 color='gray'>Data Processing Based Python @ <font color='blue'><a href='https://www.facebook.com/jskim.kr'>FB / jskim.kr</a></font>, [김진수](bigpycraft@gmail.com)</font></div>\n",
    "<hr>"
   ]
  },
  {
   "cell_type": "markdown",
   "metadata": {},
   "source": [
    "## 부품가격 조회사이트에서 필요한 정보 파싱\n",
    "- <a href='http://221.143.43.214/'>스카니아 부품가격 조회</a>\n",
    "- 브랜드별 SCANIA, HINO 검색정보 리스트 가져오기\n",
    "- 컬럼정보 : 적용일, 순번, 브랜드, 부품그룹, 부품번호, 부품명(한글), 부품명(영문), 가격(VAT별도)\n"
   ]
  },
  {
   "cell_type": "markdown",
   "metadata": {},
   "source": [
    "## 스카니아 부품가격정보 크롤링"
   ]
  },
  {
   "cell_type": "code",
   "execution_count": null,
   "metadata": {},
   "outputs": [],
   "source": [
    "from selenium import webdriver as wd\n",
    "from bs4 import BeautifulSoup as bs\n",
    "\n",
    "from selenium.webdriver.common.by import By\n",
    "\n",
    "# 명시적 대기를 위해\n",
    "from selenium.webdriver.support.ui import WebDriverWait\n",
    "from selenium.webdriver.support import expected_conditions as EC\n",
    "from IPython.display import Image\n",
    "\n",
    "import numpy as np\n",
    "import pandas as pd\n",
    "import platform\n",
    "import time\n",
    "import sys"
   ]
  },
  {
   "cell_type": "markdown",
   "metadata": {},
   "source": [
    "### <font color='brown'>Step1. Device Info 가져오기</font>"
   ]
  },
  {
   "cell_type": "code",
   "execution_count": 10,
   "metadata": {},
   "outputs": [],
   "source": [
    "# 드라이브 로드\n",
    "if platform.system() == 'Darwin':    # MacOS\n",
    "    driver = wd.Chrome(executable_path='./driver/chromedriver')      \n",
    "elif platform.system() == 'Windows': # Windows\n",
    "    driver = wd.Chrome(executable_path='./driver/chromedriver.exe')    \n",
    "else:\n",
    "    print(\"It's unknown system. Hangul fonts are not supported!\")"
   ]
  },
  {
   "cell_type": "code",
   "execution_count": null,
   "metadata": {},
   "outputs": [],
   "source": [
    "target_url = 'http://221.143.43.214/'\n",
    "brend_keyword = 'SCANIA'    # SCANIA or HINO"
   ]
  },
  {
   "cell_type": "code",
   "execution_count": null,
   "metadata": {},
   "outputs": [],
   "source": [
    "# 사이트 접속 (get) : 셀레니움이 하는 일은 사림이 하는일과 최대한 유사하게 동작하도록 작업\n",
    "# time.sleep(2)\n",
    "driver.get(target_url)"
   ]
  },
  {
   "cell_type": "code",
   "execution_count": null,
   "metadata": {},
   "outputs": [],
   "source": [
    "capture_img = './images/scania_site.png'\n",
    "driver.save_screenshot(capture_img)\n",
    "Image(capture_img)"
   ]
  },
  {
   "cell_type": "code",
   "execution_count": null,
   "metadata": {},
   "outputs": [],
   "source": [
    "html = driver.page_source\n",
    "soup = bs(html, \"lxml\")\n",
    "soup.title"
   ]
  },
  {
   "cell_type": "code",
   "execution_count": null,
   "metadata": {},
   "outputs": [],
   "source": [
    "brend_keyword = 'SCANIA'    # SCANIA or HINO\n",
    "driver.find_element_by_css_selector('#brend').send_keys(brend_keyword)"
   ]
  },
  {
   "cell_type": "code",
   "execution_count": null,
   "metadata": {},
   "outputs": [],
   "source": [
    "# 검색 버튼 클릭\n",
    "search_btn = '#con2 > div > div.search2 > form > fieldset > table > tbody > tr:nth-child(3) > td > button'\n",
    "driver.find_element_by_css_selector(search_btn).click()"
   ]
  },
  {
   "cell_type": "code",
   "execution_count": null,
   "metadata": {},
   "outputs": [],
   "source": [
    "html = driver.page_source\n",
    "soup = bs(html, \"lxml\")\n",
    "soup.title"
   ]
  },
  {
   "cell_type": "code",
   "execution_count": null,
   "metadata": {},
   "outputs": [],
   "source": [
    "result_cnt = soup.find('span', 'fcop4').get_text()\n",
    "result_cnt = int(result_cnt)\n",
    "result_cnt"
   ]
  },
  {
   "cell_type": "code",
   "execution_count": null,
   "metadata": {},
   "outputs": [],
   "source": [
    "last_page = int(result_cnt / 15)\n",
    "last_page"
   ]
  },
  {
   "cell_type": "code",
   "execution_count": null,
   "metadata": {},
   "outputs": [],
   "source": []
  },
  {
   "cell_type": "code",
   "execution_count": 11,
   "metadata": {},
   "outputs": [],
   "source": [
    "def get_total_count(brand='SCANIA'):\n",
    "    \n",
    "    target_url = 'http://221.143.43.214/'\n",
    "    brend_keyword = brand    # SCANIA or HINO\n",
    "\n",
    "    driver.get(target_url)\n",
    "\n",
    "    html = driver.page_source\n",
    "    soup = bs(html, \"lxml\")\n",
    "    \n",
    "    # 검색 브랜드 선택\n",
    "    driver.find_element_by_css_selector('#brend').send_keys(brend_keyword)\n",
    "\n",
    "    # 검색 버튼 클릭\n",
    "    search_btn = '#con2 > div > div.search2 > form > fieldset > table > tbody > tr:nth-child(3) > td > button'\n",
    "    driver.find_element_by_css_selector(search_btn).click()\n",
    "\n",
    "    html = driver.page_source\n",
    "    soup = bs(html, \"lxml\")\n",
    "\n",
    "    result_cnt = soup.find('span', 'fcop4').get_text()\n",
    "    result_cnt = int(result_cnt)\n",
    "\n",
    "    last_page = int(result_cnt / 15)\n",
    "    \n",
    "    print('검색된 총 데이터수는 {}건이며, 마지막 페이지는 {}입니다.'.format(result_cnt, last_page))\n",
    "    \n",
    "    return result_cnt, last_page\n",
    "\n"
   ]
  },
  {
   "cell_type": "code",
   "execution_count": 12,
   "metadata": {},
   "outputs": [
    {
     "name": "stdout",
     "output_type": "stream",
     "text": [
      "검색된 총 데이터수는 24525건이며, 마지막 페이지는 1635입니다.\n"
     ]
    }
   ],
   "source": [
    "result_cnt, last_page = get_total_count()"
   ]
  },
  {
   "cell_type": "code",
   "execution_count": null,
   "metadata": {},
   "outputs": [],
   "source": []
  },
  {
   "cell_type": "code",
   "execution_count": null,
   "metadata": {},
   "outputs": [],
   "source": []
  },
  {
   "cell_type": "code",
   "execution_count": null,
   "metadata": {},
   "outputs": [],
   "source": []
  },
  {
   "cell_type": "code",
   "execution_count": null,
   "metadata": {},
   "outputs": [],
   "source": [
    "page_url = 'http://221.143.43.214/index.html?page={}&key=Y&brend={}&series2=&&series3=&part_no=&type1=&type2='\n",
    "param_page  = last_page\n",
    "param_brend = 'SCANIA'"
   ]
  },
  {
   "cell_type": "code",
   "execution_count": null,
   "metadata": {},
   "outputs": [],
   "source": [
    "driver.get(page_url.format(1, param_brend))"
   ]
  },
  {
   "cell_type": "code",
   "execution_count": null,
   "metadata": {},
   "outputs": [],
   "source": [
    "capture_img = './images/scania_site_1.png'\n",
    "driver.save_screenshot(capture_img)\n",
    "Image(capture_img)"
   ]
  },
  {
   "cell_type": "code",
   "execution_count": null,
   "metadata": {},
   "outputs": [],
   "source": [
    "html = driver.page_source\n",
    "soup = bs(html, \"lxml\")\n",
    "soup.title"
   ]
  },
  {
   "cell_type": "code",
   "execution_count": null,
   "metadata": {},
   "outputs": [],
   "source": [
    "table_tag = soup.find('table', 'tbl2')\n",
    "table_tag"
   ]
  },
  {
   "cell_type": "code",
   "execution_count": null,
   "metadata": {},
   "outputs": [],
   "source": [
    "tbody_tag = table_tag.find('tbody')\n",
    "# tbody_tag"
   ]
  },
  {
   "cell_type": "code",
   "execution_count": null,
   "metadata": {},
   "outputs": [],
   "source": [
    "tr_tags = tbody_tag.find_all('tr')\n",
    "tr_cnt = len(tr_tags)\n",
    "tr_cnt"
   ]
  },
  {
   "cell_type": "code",
   "execution_count": null,
   "metadata": {},
   "outputs": [],
   "source": [
    "td_tags = tr_tags[0].find_all('td')\n",
    "td_cnt = len(td_tags)\n",
    "td_cnt"
   ]
  },
  {
   "cell_type": "code",
   "execution_count": null,
   "metadata": {},
   "outputs": [],
   "source": [
    "# 순번, ord_no\n",
    "td_tags_0 = td_tags[0].get_text()\n",
    "td_tags_0 = td_tags_0.strip()\n",
    "td_tags_0"
   ]
  },
  {
   "cell_type": "code",
   "execution_count": null,
   "metadata": {},
   "outputs": [],
   "source": [
    "# 브랜드, brand\n",
    "td_tags_1 = td_tags[1].get_text()\n",
    "td_tags_1 = td_tags_1.strip()\n",
    "td_tags_1"
   ]
  },
  {
   "cell_type": "code",
   "execution_count": null,
   "metadata": {},
   "outputs": [],
   "source": [
    "# 부품그룹, device_grp\n",
    "td_tags_2 = td_tags[2].get_text()\n",
    "td_tags_2 = td_tags_2.strip()\n",
    "td_tags_2"
   ]
  },
  {
   "cell_type": "code",
   "execution_count": null,
   "metadata": {},
   "outputs": [],
   "source": [
    "# 부품번호, device_no\n",
    "td_tags_3 = td_tags[3].get_text()\n",
    "td_tags_3 = td_tags_3.strip()\n",
    "td_tags_3"
   ]
  },
  {
   "cell_type": "code",
   "execution_count": null,
   "metadata": {},
   "outputs": [],
   "source": [
    "# 부품명(한글), device_nm_kr\n",
    "td_tags_4 = td_tags[4].get_text()\n",
    "td_tags_4 = td_tags_4.strip()\n",
    "td_tags_4"
   ]
  },
  {
   "cell_type": "code",
   "execution_count": null,
   "metadata": {},
   "outputs": [],
   "source": [
    "# 부품명(영문), device_nm_en\n",
    "td_tags_5 = td_tags[5].get_text()\n",
    "td_tags_5 = td_tags_5.strip()\n",
    "td_tags_5"
   ]
  },
  {
   "cell_type": "code",
   "execution_count": null,
   "metadata": {},
   "outputs": [],
   "source": [
    "# 가격(VAT별도), price\n",
    "td_tags_6 = td_tags[6].get_text()\n",
    "td_tags_6 = td_tags_6.replace(',', '')\n",
    "td_tags_6 = td_tags_6.replace('\\\\', '')\n",
    "td_tags_6 = td_tags_6.strip()\n",
    "td_tags_6 = int(td_tags_6)\n",
    "td_tags_6"
   ]
  },
  {
   "cell_type": "code",
   "execution_count": null,
   "metadata": {},
   "outputs": [],
   "source": []
  },
  {
   "cell_type": "code",
   "execution_count": null,
   "metadata": {},
   "outputs": [],
   "source": [
    "# 컬럼정보 : 순번, 브랜드, 부품그룹, 부품번호, 부품명(한글), 부품명(영문), 가격(VAT별도)\n",
    "# Column : ord_no, brand, device_grp, device_no, device_nm_kr, device_nm_en, price"
   ]
  },
  {
   "cell_type": "code",
   "execution_count": null,
   "metadata": {},
   "outputs": [],
   "source": [
    "def get_device_info(td_tags):\n",
    "    device_info = list()\n",
    "    td_tags_0 = td_tags[0].get_text().strip()    # 순번, ord_no\n",
    "    td_tags_1 = td_tags[1].get_text().strip()    # 브랜드, brand\n",
    "    td_tags_2 = td_tags[2].get_text().strip()    # 부품그룹, device_grp\n",
    "    td_tags_3 = td_tags[3].get_text().strip()    # 부품번호, device_no\n",
    "    td_tags_4 = td_tags[4].get_text().strip()    # 부품명(한글), device_nm_kr\n",
    "    td_tags_5 = td_tags[5].get_text().strip()    # 부품명(영문), device_nm_en\n",
    "    td_tags_6 = td_tags[6].get_text().strip()    # 가격(VAT별도), price\n",
    "    td_tags_6 = td_tags_6.replace(',' , '')\n",
    "    td_tags_6 = td_tags_6.replace('\\\\', '')\n",
    "    td_tags_6 = td_tags_6.strip()\n",
    "    \n",
    "    # 숫자형\n",
    "    td_tags_0 = int(td_tags_0)\n",
    "    td_tags_6 = int(td_tags_6)\n",
    "    \n",
    "    device_info.append(td_tags_0)\n",
    "    device_info.append(td_tags_1)\n",
    "    device_info.append(td_tags_2)\n",
    "    device_info.append(td_tags_3)\n",
    "    device_info.append(td_tags_4)\n",
    "    device_info.append(td_tags_5)\n",
    "    device_info.append(td_tags_6)\n",
    "    \n",
    "    return device_info\n"
   ]
  },
  {
   "cell_type": "code",
   "execution_count": null,
   "metadata": {},
   "outputs": [],
   "source": [
    "device_info = get_device_info(td_tags)\n",
    "device_info"
   ]
  },
  {
   "cell_type": "code",
   "execution_count": null,
   "metadata": {},
   "outputs": [],
   "source": [
    "def get_device_info(td_tags):\n",
    "    device_info = dict()\n",
    "    td_tags_0 = td_tags[0].get_text().strip()    # 순번, ord_no\n",
    "    td_tags_1 = td_tags[1].get_text().strip()    # 브랜드, brand\n",
    "    td_tags_2 = td_tags[2].get_text().strip()    # 부품그룹, device_grp\n",
    "    td_tags_3 = td_tags[3].get_text().strip()    # 부품번호, device_no\n",
    "    td_tags_4 = td_tags[4].get_text().strip()    # 부품명(한글), device_nm_kr\n",
    "    td_tags_5 = td_tags[5].get_text().strip()    # 부품명(영문), device_nm_en\n",
    "    td_tags_6 = td_tags[6].get_text().strip()    # 가격(VAT별도), price\n",
    "    td_tags_6 = td_tags_6.replace(',', '')\n",
    "    td_tags_6 = td_tags_6.replace('\\\\', '')\n",
    "    td_tags_6 = td_tags_6.strip()\n",
    "    \n",
    "    # 숫자형\n",
    "    td_tags_0 = int(td_tags_0)\n",
    "    td_tags_6 = int(td_tags_6)\n",
    "    \n",
    "    \n",
    "    device_info['ord_no'      ] = td_tags_0\n",
    "    device_info['brand'       ] = td_tags_1\n",
    "    device_info['device_grp'  ] = td_tags_2\n",
    "    device_info['device_no'   ] = td_tags_3\n",
    "    device_info['device_nm_kr'] = td_tags_4\n",
    "    device_info['device_nm_en'] = td_tags_5\n",
    "    device_info['price'       ] = td_tags_6\n",
    "    \n",
    "    return device_info\n"
   ]
  },
  {
   "cell_type": "code",
   "execution_count": null,
   "metadata": {},
   "outputs": [],
   "source": [
    "device_info = get_device_info(td_tags)\n",
    "device_info"
   ]
  },
  {
   "cell_type": "code",
   "execution_count": null,
   "metadata": {},
   "outputs": [],
   "source": []
  },
  {
   "cell_type": "markdown",
   "metadata": {},
   "source": [
    "### <font color='brown'>Step2. Device List 가져오기</font>"
   ]
  },
  {
   "cell_type": "code",
   "execution_count": null,
   "metadata": {},
   "outputs": [],
   "source": [
    "tr_tags = tbody_tag.find_all('tr')\n",
    "tr_cnt = len(tr_tags)\n",
    "tr_cnt"
   ]
  },
  {
   "cell_type": "code",
   "execution_count": null,
   "metadata": {},
   "outputs": [],
   "source": [
    "td_tags = tr_tags[0].find_all('td')\n",
    "td_cnt = len(td_tags)\n",
    "td_cnt"
   ]
  },
  {
   "cell_type": "code",
   "execution_count": null,
   "metadata": {},
   "outputs": [],
   "source": [
    "def get_device_list(tr_tags):\n",
    "    device_list = list()\n",
    "    \n",
    "    tr_cnt = len(tr_tags)\n",
    "    if tr_cnt == 0:\n",
    "        return \n",
    "    \n",
    "    for i in range(tr_cnt):\n",
    "        td_tags = tr_tags[i].find_all('td')\n",
    "        device_info = get_device_info(td_tags)\n",
    "        device_list.append(device_info)\n",
    "    \n",
    "    return device_list\n"
   ]
  },
  {
   "cell_type": "code",
   "execution_count": null,
   "metadata": {},
   "outputs": [],
   "source": [
    "device_list = get_device_list(tr_tags)\n",
    "device_list"
   ]
  },
  {
   "cell_type": "code",
   "execution_count": null,
   "metadata": {},
   "outputs": [],
   "source": []
  },
  {
   "cell_type": "markdown",
   "metadata": {},
   "source": [
    "### <font color='brown'>Step3. 페이지별 Device List 가져오기</font>"
   ]
  },
  {
   "cell_type": "code",
   "execution_count": null,
   "metadata": {},
   "outputs": [],
   "source": [
    "def get_device_list(tr_tags):\n",
    "    device_list = list()\n",
    "    \n",
    "    tr_cnt = len(tr_tags)\n",
    "    if tr_cnt == 0:\n",
    "        return None\n",
    "    \n",
    "    for i in range(tr_cnt):\n",
    "        td_tags = tr_tags[i].find_all('td')\n",
    "        device_info = get_device_info(td_tags)\n",
    "        device_list.append(device_info)\n",
    "    \n",
    "    return device_list\n"
   ]
  },
  {
   "cell_type": "code",
   "execution_count": null,
   "metadata": {},
   "outputs": [],
   "source": [
    "def get_device_list_by_page(start_pg, end_pg):\n",
    "    device_list_total = list()\n",
    "    \n",
    "    page_url = 'http://221.143.43.214/index.html?page={}&key=Y&brend={}&series2=&&series3=&part_no=&type1=&type2='\n",
    "    \n",
    "    for navi_page in range(start_pg, end_pg+1):\n",
    "        param_page  = navi_page\n",
    "        param_brend = 'SCANIA'\n",
    "        driver.get(page_url.format(param_page, param_brend))\n",
    "        \n",
    "        time.sleep(1)\n",
    "        html = driver.page_source\n",
    "        soup = bs(html, \"lxml\")\n",
    "        \n",
    "        table_tag = soup.find('table', 'tbl2')\n",
    "        tbody_tag = table_tag.find('tbody')\n",
    "        tr_tags = tbody_tag.find_all('tr')\n",
    "        tr_cnt = len(tr_tags)\n",
    "        \n",
    "        if tr_cnt > 0:\n",
    "            device_list = list()\n",
    "        else:\n",
    "            break\n",
    "        \n",
    "        device_list = get_device_list(tr_tags)\n",
    "        \n",
    "        device_list_total.extend(device_list)\n",
    "    \n",
    "    return device_list_total\n"
   ]
  },
  {
   "cell_type": "code",
   "execution_count": null,
   "metadata": {},
   "outputs": [],
   "source": [
    "device_list_total = get_device_list_by_page(1, 10)\n",
    "len(device_list_total)"
   ]
  },
  {
   "cell_type": "code",
   "execution_count": null,
   "metadata": {},
   "outputs": [],
   "source": [
    "device_list_total"
   ]
  },
  {
   "cell_type": "code",
   "execution_count": null,
   "metadata": {},
   "outputs": [],
   "source": []
  },
  {
   "cell_type": "markdown",
   "metadata": {},
   "source": [
    "### <font color='brown'>Step4. 페이지별 Device List 저장하기</font>"
   ]
  },
  {
   "cell_type": "code",
   "execution_count": null,
   "metadata": {},
   "outputs": [],
   "source": [
    "# 컬럼정보 : 순번, 브랜드, 부품그룹, 부품번호, 부품명(한글), 부품명(영문), 가격(VAT별도)\n",
    "# Column : ord_no, brand, device_grp, device_no, device_nm_kr, device_nm_en, price"
   ]
  },
  {
   "cell_type": "code",
   "execution_count": null,
   "metadata": {},
   "outputs": [],
   "source": []
  },
  {
   "cell_type": "code",
   "execution_count": null,
   "metadata": {},
   "outputs": [],
   "source": [
    "import csv\n",
    "\n",
    "csv_columns = [ 'ord_no', 'brand', 'device_grp', 'device_no', 'device_nm_kr', 'device_nm_en', 'price' ]\n",
    "dict_data = [\n",
    "     {'ord_no': 1,\n",
    "      'brand': 'SCANIA',\n",
    "      'device_grp': '13. 조임장치및가스켓',\n",
    "      'device_no': '1752309',\n",
    "      'device_nm_kr': '스터드',\n",
    "      'device_nm_en': 'STUD',\n",
    "      'price': 18600},\n",
    "     {'ord_no': 2,\n",
    "      'brand': 'SCANIA',\n",
    "      'device_grp': '10. 캐빈관련',\n",
    "      'device_no': '2082014',\n",
    "      'device_nm_kr': '모델 뱃지',\n",
    "      'device_nm_en': 'MODEL BADGE',\n",
    "      'price': 66000},\n",
    "     {'ord_no': 3,\n",
    "      'brand': 'SCANIA',\n",
    "      'device_grp': '3. 연료시스템',\n",
    "      'device_no': '1851717',\n",
    "      'device_nm_kr': '압력 조절장치',\n",
    "      'device_nm_en': 'PRESSURE REGULATOR',\n",
    "      'price': 114000},\n",
    "]\n",
    "# dict_data = device_list_total\n",
    "\n",
    "csv_file = 'data/scania_test.csv'\n",
    "try:\n",
    "    with open(csv_file, 'w', encoding='utf-8') as csvfile:\n",
    "        writer = csv.DictWriter(csvfile, fieldnames=csv_columns)\n",
    "        writer.writeheader()\n",
    "        for data in dict_data:\n",
    "            writer.writerow(data)\n",
    "except IOError:\n",
    "    print(\"I/O error\") \n",
    "    "
   ]
  },
  {
   "cell_type": "code",
   "execution_count": null,
   "metadata": {},
   "outputs": [],
   "source": [
    "df = pd.read_csv(csv_file)\n",
    "df.head()"
   ]
  },
  {
   "cell_type": "code",
   "execution_count": null,
   "metadata": {},
   "outputs": [],
   "source": []
  },
  {
   "cell_type": "markdown",
   "metadata": {},
   "source": [
    "### <font color='brown'>Step5. 모듈기반 Scania 데이터 크롤링</font>"
   ]
  },
  {
   "cell_type": "code",
   "execution_count": 1,
   "metadata": {},
   "outputs": [],
   "source": [
    "# from images import bigpycraft_dl as bpc\n",
    "from module import bl_dc_scania as bpc\n",
    "from IPython.display import Image \n",
    "from tqdm import tqdm_notebook"
   ]
  },
  {
   "cell_type": "code",
   "execution_count": 2,
   "metadata": {},
   "outputs": [
    {
     "data": {
      "text/plain": [
       "'Scania Data Crawling !!'"
      ]
     },
     "execution_count": 2,
     "metadata": {},
     "output_type": "execute_result"
    }
   ],
   "source": [
    "blScania = bpc.BlScania()\n",
    "msg = blScania.chk_module('Scania Data Crawling !!')\n",
    "msg"
   ]
  },
  {
   "cell_type": "code",
   "execution_count": 3,
   "metadata": {},
   "outputs": [],
   "source": [
    "from selenium import webdriver as wd\n",
    "from bs4 import BeautifulSoup as bs\n",
    "\n",
    "from selenium.webdriver.common.by import By\n",
    "\n",
    "# 명시적 대기를 위해\n",
    "from selenium.webdriver.support.ui import WebDriverWait\n",
    "from selenium.webdriver.support import expected_conditions as EC\n",
    "from IPython.display import Image\n",
    "\n",
    "import numpy as np\n",
    "import pandas as pd\n",
    "import platform\n",
    "import time\n",
    "import sys"
   ]
  },
  {
   "cell_type": "code",
   "execution_count": 4,
   "metadata": {},
   "outputs": [],
   "source": [
    "# 드라이브 로드\n",
    "if platform.system() == 'Darwin':    # MacOS\n",
    "    driver = wd.Chrome(executable_path='./driver/chromedriver')      \n",
    "elif platform.system() == 'Windows': # Windows\n",
    "    driver = wd.Chrome(executable_path='./driver/chromedriver.exe')    \n",
    "else:\n",
    "    print(\"It's unknown system. Hangul fonts are not supported!\")"
   ]
  },
  {
   "cell_type": "code",
   "execution_count": 5,
   "metadata": {},
   "outputs": [
    {
     "data": {
      "application/vnd.jupyter.widget-view+json": {
       "model_id": "1de3d0b1087949958c08281053bf6e49",
       "version_major": 2,
       "version_minor": 0
      },
      "text/plain": [
       "HBox(children=(IntProgress(value=0, max=6), HTML(value='')))"
      ]
     },
     "metadata": {},
     "output_type": "display_data"
    },
    {
     "name": "stdout",
     "output_type": "stream",
     "text": [
      "\n",
      "브랜드 SCANIA 데이터 90건이 크롤링 되었습니다!\n"
     ]
    }
   ],
   "source": [
    "key_brand='SCANIA'  # SCANIA or HINO\n",
    "device_list_total = blScania.get_device_list_by_page(1000, 1005, driver, key_brand)\n",
    "print('브랜드 {} 데이터 {}건이 크롤링 되었습니다!'.format(key_brand, len(device_list_total)))"
   ]
  },
  {
   "cell_type": "code",
   "execution_count": 8,
   "metadata": {},
   "outputs": [
    {
     "name": "stdout",
     "output_type": "stream",
     "text": [
      " 성공적으로 저장되었습니다! \n",
      " File : data/SCANIA_90.csv\n"
     ]
    }
   ],
   "source": [
    "dirname  = 'data/'\n",
    "filename = key_brand + '_' + str(len(device_list_total))\n",
    "csv_file, msg = blScania.save_dict_to_csv(device_list_total, dirname, filename)\n",
    "print(msg)\n",
    "print(' File :', csv_file)"
   ]
  },
  {
   "cell_type": "code",
   "execution_count": 9,
   "metadata": {},
   "outputs": [
    {
     "data": {
      "text/html": [
       "<div>\n",
       "<style scoped>\n",
       "    .dataframe tbody tr th:only-of-type {\n",
       "        vertical-align: middle;\n",
       "    }\n",
       "\n",
       "    .dataframe tbody tr th {\n",
       "        vertical-align: top;\n",
       "    }\n",
       "\n",
       "    .dataframe thead th {\n",
       "        text-align: right;\n",
       "    }\n",
       "</style>\n",
       "<table border=\"1\" class=\"dataframe\">\n",
       "  <thead>\n",
       "    <tr style=\"text-align: right;\">\n",
       "      <th></th>\n",
       "      <th>ord_no</th>\n",
       "      <th>brand</th>\n",
       "      <th>device_grp</th>\n",
       "      <th>device_no</th>\n",
       "      <th>device_nm_kr</th>\n",
       "      <th>device_nm_en</th>\n",
       "      <th>price</th>\n",
       "    </tr>\n",
       "  </thead>\n",
       "  <tbody>\n",
       "    <tr>\n",
       "      <th>80</th>\n",
       "      <td>15066</td>\n",
       "      <td>SCANIA</td>\n",
       "      <td>11. 전기전자</td>\n",
       "      <td>1786943</td>\n",
       "      <td>케이블 하네스</td>\n",
       "      <td>CABLE HANESS</td>\n",
       "      <td>32600</td>\n",
       "    </tr>\n",
       "    <tr>\n",
       "      <th>81</th>\n",
       "      <td>15067</td>\n",
       "      <td>SCANIA</td>\n",
       "      <td>13. 조임장치및가스켓</td>\n",
       "      <td>1757465</td>\n",
       "      <td>프렌지 스크류</td>\n",
       "      <td>FRANGE SCREW</td>\n",
       "      <td>1000</td>\n",
       "    </tr>\n",
       "    <tr>\n",
       "      <th>82</th>\n",
       "      <td>15068</td>\n",
       "      <td>SCANIA</td>\n",
       "      <td>13. 조임장치및가스켓</td>\n",
       "      <td>1755682</td>\n",
       "      <td>프렌지 스크류</td>\n",
       "      <td>FRANGE SCREW</td>\n",
       "      <td>6100</td>\n",
       "    </tr>\n",
       "    <tr>\n",
       "      <th>83</th>\n",
       "      <td>15069</td>\n",
       "      <td>SCANIA</td>\n",
       "      <td>13. 조임장치및가스켓</td>\n",
       "      <td>1755674</td>\n",
       "      <td>프렌지 스크류</td>\n",
       "      <td>FRANGE SCREW</td>\n",
       "      <td>1100</td>\n",
       "    </tr>\n",
       "    <tr>\n",
       "      <th>84</th>\n",
       "      <td>15070</td>\n",
       "      <td>SCANIA</td>\n",
       "      <td>13. 조임장치및가스켓</td>\n",
       "      <td>1755673</td>\n",
       "      <td>프렌지 스크류</td>\n",
       "      <td>FRANGE SCREW</td>\n",
       "      <td>1000</td>\n",
       "    </tr>\n",
       "    <tr>\n",
       "      <th>85</th>\n",
       "      <td>15071</td>\n",
       "      <td>SCANIA</td>\n",
       "      <td>5. 동력전달장치</td>\n",
       "      <td>1754523</td>\n",
       "      <td>플러그</td>\n",
       "      <td>PLUG</td>\n",
       "      <td>36000</td>\n",
       "    </tr>\n",
       "    <tr>\n",
       "      <th>86</th>\n",
       "      <td>15072</td>\n",
       "      <td>SCANIA</td>\n",
       "      <td>13. 조임장치및가스켓</td>\n",
       "      <td>1754522</td>\n",
       "      <td>워셔</td>\n",
       "      <td>WASHER</td>\n",
       "      <td>2400</td>\n",
       "    </tr>\n",
       "    <tr>\n",
       "      <th>87</th>\n",
       "      <td>15073</td>\n",
       "      <td>SCANIA</td>\n",
       "      <td>5. 동력전달장치</td>\n",
       "      <td>1754521</td>\n",
       "      <td>워셔</td>\n",
       "      <td>WASHER</td>\n",
       "      <td>10600</td>\n",
       "    </tr>\n",
       "    <tr>\n",
       "      <th>88</th>\n",
       "      <td>15074</td>\n",
       "      <td>SCANIA</td>\n",
       "      <td>13. 조임장치및가스켓</td>\n",
       "      <td>1753179</td>\n",
       "      <td>플라스틱 파이프</td>\n",
       "      <td>PLASTIC PIPE</td>\n",
       "      <td>14100</td>\n",
       "    </tr>\n",
       "    <tr>\n",
       "      <th>89</th>\n",
       "      <td>15075</td>\n",
       "      <td>SCANIA</td>\n",
       "      <td>5. 동력전달장치</td>\n",
       "      <td>1752838</td>\n",
       "      <td>기어 샤프트</td>\n",
       "      <td>GEAR SH SHAFT</td>\n",
       "      <td>228000</td>\n",
       "    </tr>\n",
       "  </tbody>\n",
       "</table>\n",
       "</div>"
      ],
      "text/plain": [
       "    ord_no   brand    device_grp  device_no device_nm_kr   device_nm_en  \\\n",
       "80   15066  SCANIA      11. 전기전자    1786943      케이블 하네스   CABLE HANESS   \n",
       "81   15067  SCANIA  13. 조임장치및가스켓    1757465      프렌지 스크류   FRANGE SCREW   \n",
       "82   15068  SCANIA  13. 조임장치및가스켓    1755682      프렌지 스크류   FRANGE SCREW   \n",
       "83   15069  SCANIA  13. 조임장치및가스켓    1755674      프렌지 스크류   FRANGE SCREW   \n",
       "84   15070  SCANIA  13. 조임장치및가스켓    1755673      프렌지 스크류   FRANGE SCREW   \n",
       "85   15071  SCANIA     5. 동력전달장치    1754523          플러그           PLUG   \n",
       "86   15072  SCANIA  13. 조임장치및가스켓    1754522           워셔         WASHER   \n",
       "87   15073  SCANIA     5. 동력전달장치    1754521           워셔         WASHER   \n",
       "88   15074  SCANIA  13. 조임장치및가스켓    1753179     플라스틱 파이프   PLASTIC PIPE   \n",
       "89   15075  SCANIA     5. 동력전달장치    1752838       기어 샤프트  GEAR SH SHAFT   \n",
       "\n",
       "     price  \n",
       "80   32600  \n",
       "81    1000  \n",
       "82    6100  \n",
       "83    1100  \n",
       "84    1000  \n",
       "85   36000  \n",
       "86    2400  \n",
       "87   10600  \n",
       "88   14100  \n",
       "89  228000  "
      ]
     },
     "execution_count": 9,
     "metadata": {},
     "output_type": "execute_result"
    }
   ],
   "source": [
    "df_scania = pd.read_csv(csv_file)\n",
    "df_scania.tail(10)"
   ]
  },
  {
   "cell_type": "code",
   "execution_count": null,
   "metadata": {},
   "outputs": [],
   "source": []
  },
  {
   "cell_type": "markdown",
   "metadata": {},
   "source": [
    "### UTF-8 한글 CSV파일 Office에서 제대로 읽기 \n",
    "> https://www.lesstif.com/pages/viewpage.action?pageId=54952504\n",
    "- 엑셀을 실행하고 데이타 → 텍스트 를 선택합니다.\n",
    "- 가져올 파일을 선택하고 확인을 클릭합니다.\n",
    "- 콤보 박스에서 적절한 코드 타입이 선택됐는지 확인합니다."
   ]
  },
  {
   "cell_type": "code",
   "execution_count": null,
   "metadata": {},
   "outputs": [],
   "source": []
  },
  {
   "cell_type": "code",
   "execution_count": 6,
   "metadata": {},
   "outputs": [],
   "source": [
    "dirname='data'\n",
    "filename='scania_data.csv'"
   ]
  },
  {
   "cell_type": "code",
   "execution_count": 14,
   "metadata": {},
   "outputs": [
    {
     "data": {
      "text/plain": [
       "'data/scania_data.csv'"
      ]
     },
     "execution_count": 14,
     "metadata": {},
     "output_type": "execute_result"
    }
   ],
   "source": [
    "if not dirname.endswith('/'):\n",
    "    dirname += '/'\n",
    "    \n",
    "if not filename.endswith('.csv'):\n",
    "    filename += '.csv'\n",
    "\n",
    "csv_file = dirname + filename\n",
    "csv_file"
   ]
  },
  {
   "cell_type": "code",
   "execution_count": null,
   "metadata": {},
   "outputs": [],
   "source": []
  }
 ],
 "metadata": {
  "kernelspec": {
   "display_name": "Python 3",
   "language": "python",
   "name": "python3"
  },
  "language_info": {
   "codemirror_mode": {
    "name": "ipython",
    "version": 3
   },
   "file_extension": ".py",
   "mimetype": "text/x-python",
   "name": "python",
   "nbconvert_exporter": "python",
   "pygments_lexer": "ipython3",
   "version": "3.6.5"
  }
 },
 "nbformat": 4,
 "nbformat_minor": 2
}
